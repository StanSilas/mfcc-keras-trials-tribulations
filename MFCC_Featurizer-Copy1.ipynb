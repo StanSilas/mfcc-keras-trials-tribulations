{
 "cells": [
  {
   "cell_type": "markdown",
   "metadata": {},
   "source": [
    "# Part 1 : Understand the components of MFCC and SR and frame size and file duration\n",
    "\n"
   ]
  },
  {
   "cell_type": "code",
   "execution_count": 9,
   "metadata": {},
   "outputs": [
    {
     "name": "stdout",
     "output_type": "stream",
     "text": [
      "[ 0.          0.          0.         ...,  0.00191131  0.00129196  0.        ]\n",
      "\n",
      " sample rate :\n",
      "22050\n",
      "\n",
      " mfcc shape : \n",
      "(20, 5911)\n",
      "\n",
      " file duration in seconds:\n",
      "137.232018141\n",
      "\n",
      " mfcc frame size = \n",
      "0.0232163793166\n"
     ]
    }
   ],
   "source": [
    "import librosa\n",
    "from __future__ import division\n",
    "import numpy as np\n",
    "\n",
    "pat ='539.mp3'\n",
    "y, sr = librosa.load(pat)\n",
    "\n",
    "print \"\\n sample rate :\"\n",
    "print sr\n",
    "\n",
    "mfcc=librosa.feature.mfcc(y=y, sr=sr)\n",
    "print \"\\n mfcc shape : \"\n",
    "print mfcc.shape\n",
    "\n",
    "print \"\\n file duration in seconds:\"\n",
    "print librosa.get_duration(y=y,sr=sr)\n",
    "print \"\\n mfcc frame size = \"\n",
    "frame_size =librosa.get_duration(y=y,sr=sr)/mfcc.shape[1]\n",
    "print frame_size\n"
   ]
  },
  {
   "cell_type": "code",
   "execution_count": 2,
   "metadata": {},
   "outputs": [
    {
     "name": "stdout",
     "output_type": "stream",
     "text": [
      "157.907660389\n",
      "5754\n",
      "5911.00000002\n"
     ]
    }
   ],
   "source": [
    "print (librosa.get_duration(y=y,sr=sr)-133.565974)/0.0232163793166\n",
    "print 5911-157\n",
    "print 137.232018141/0.0232163793166"
   ]
  },
  {
   "cell_type": "markdown",
   "metadata": {},
   "source": [
    "# Read the annotation file"
   ]
  },
  {
   "cell_type": "code",
   "execution_count": 3,
   "metadata": {},
   "outputs": [],
   "source": [
    "my_segments =[]\n",
    "for line in open('539.txt', 'rb').readlines():\n",
    "            start_time, end_time, label = line.split(\"\\t\")\n",
    "            start_time = float(start_time)\n",
    "            end_time = float(end_time)\n",
    "            label = label.strip()\n",
    "            my_segments.append((start_time, end_time, label))"
   ]
  },
  {
   "cell_type": "markdown",
   "metadata": {},
   "source": [
    "## Split the annotation file to mimic the frame size from the mfcc ~~ 0.023 seconds"
   ]
  },
  {
   "cell_type": "code",
   "execution_count": 10,
   "metadata": {},
   "outputs": [],
   "source": [
    "def expand(segments, stepsize):\n",
    "    result = []\n",
    "    levels = [x[0] for x in segments] + [segments[-1][1]] #0, 14.46, 16.89, 21.23\n",
    "    i = 0   # tracks the index in segments that we need at the current step\n",
    "    for step in np.arange(0, levels[-1], stepsize):\n",
    "\n",
    "        # first check if the index needs to be updated\n",
    "        # update when the next level will be reached at the next 'stepsize / 2'\n",
    "        # (this effectively rounds to the nearest level)\n",
    "        if i < len(levels) - 2 and (step + stepsize / 2) > levels[i+1]:\n",
    "            i += 1\n",
    "\n",
    "        # now append the values\n",
    "        result.append((step, step + stepsize, segments[i][2]))\n",
    "\n",
    "    return result"
   ]
  },
  {
   "cell_type": "code",
   "execution_count": 11,
   "metadata": {},
   "outputs": [
    {
     "name": "stdout",
     "output_type": "stream",
     "text": [
      "5912\n",
      "137.25523452\n",
      "138.021375037\n"
     ]
    }
   ],
   "source": [
    "x= (expand(my_segments,0.0232163793166))\n",
    "\n",
    "print len(x)\n",
    "print len(x)*0.0232163793166\n",
    "\n",
    "print 5945*0.0232163793166\n"
   ]
  }
 ],
 "metadata": {
  "kernelspec": {
   "display_name": "Python 2",
   "language": "python",
   "name": "python2"
  },
  "language_info": {
   "codemirror_mode": {
    "name": "ipython",
    "version": 2
   },
   "file_extension": ".py",
   "mimetype": "text/x-python",
   "name": "python",
   "nbconvert_exporter": "python",
   "pygments_lexer": "ipython2",
   "version": "2.7.12"
  }
 },
 "nbformat": 4,
 "nbformat_minor": 2
}
